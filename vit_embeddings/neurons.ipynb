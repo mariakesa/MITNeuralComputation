{
 "cells": [
  {
   "cell_type": "code",
   "execution_count": null,
   "id": "ef41dc39",
   "metadata": {},
   "outputs": [],
   "source": [
    "import numpy as np\n",
    "import pickle\n",
    "from scipy.special import softmax\n",
    "import matplotlib.pyplot as plt\n",
    "\n",
    "#(39209, 5900) neurons by 50 trials * 118 images\n",
    "dat=np.load('/home/maria/LuckyMouse/pixel_transformer_neuro/data/processed/hybrid_neural_responses.npy')\n",
    "\n",
    "path = '/home/maria/Documents/HuggingMouseData/MouseViTEmbeddings/google_vit-base-patch16-224_embeddings_logits.pkl'\n",
    "with open(path, 'rb') as f:\n",
    "    vit_dict = pickle.load(f)['natural_scenes']\n",
    "\n",
    "# Convert to a matrix (assumes vit_dict is {image_id: logits})\n",
    "embeddings = np.stack(list(vit_dict))   # shape: (N_images, n_classes)\n",
    "print(\"Embeddings shape:\", embeddings.shape)\n",
    "\n",
    "# Compute softmax over classes (object probabilities)\n",
    "X = softmax(embeddings, axis=1)"
   ]
  },
  {
   "cell_type": "code",
   "execution_count": 2,
   "id": "07cdfb93",
   "metadata": {},
   "outputs": [
    {
     "data": {
      "text/plain": [
       "(39209, 5900)"
      ]
     },
     "execution_count": 2,
     "metadata": {},
     "output_type": "execute_result"
    }
   ],
   "source": [
    "dat.shape"
   ]
  },
  {
   "cell_type": "code",
   "execution_count": 3,
   "id": "9d6cb916",
   "metadata": {},
   "outputs": [
    {
     "data": {
      "text/plain": [
       "5900"
      ]
     },
     "execution_count": 3,
     "metadata": {},
     "output_type": "execute_result"
    }
   ],
   "source": [
    "118*50"
   ]
  },
  {
   "cell_type": "code",
   "execution_count": 5,
   "id": "7fef6d50",
   "metadata": {},
   "outputs": [
    {
     "data": {
      "text/plain": [
       "array([1., 1., 1., ..., 1., 1., 1.])"
      ]
     },
     "execution_count": 5,
     "metadata": {},
     "output_type": "execute_result"
    }
   ],
   "source": [
    "dat[dat>0.0]"
   ]
  }
 ],
 "metadata": {
  "kernelspec": {
   "display_name": "Python 3",
   "language": "python",
   "name": "python3"
  },
  "language_info": {
   "codemirror_mode": {
    "name": "ipython",
    "version": 3
   },
   "file_extension": ".py",
   "mimetype": "text/x-python",
   "name": "python",
   "nbconvert_exporter": "python",
   "pygments_lexer": "ipython3",
   "version": "3.12.3"
  }
 },
 "nbformat": 4,
 "nbformat_minor": 5
}
